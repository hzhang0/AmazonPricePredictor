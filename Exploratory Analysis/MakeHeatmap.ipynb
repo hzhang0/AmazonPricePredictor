{
 "cells": [
  {
   "cell_type": "code",
   "execution_count": 10,
   "metadata": {
    "collapsed": true
   },
   "outputs": [],
   "source": [
    "import numpy as np\n",
    "import matplotlib.pyplot as plt\n",
    "import seaborn as sns\n",
    "import pandas as pd\n",
    "\n",
    "data = [(0.01, 3, 2.786318e-01), #learning rate, depth, R^2\n",
    "       (0.01, 5, 3.309793e-01),\n",
    "       (0.01, 7,3.545946e-01),\n",
    "       (0.1, 3, 4.494290e-01),\n",
    "       (0.1, 5, 4.848307e-01),\n",
    "       (0.1, 7, 0.500908),\n",
    "        (0.3, 7, 0.450216),\n",
    "       (1, 3, 1.792066e-02),\n",
    "        (1,5, 1.198566e-01),\n",
    "       (1,7, -1.649937e-01),\n",
    "       (10, 3, -1.796564e+190),\n",
    "       (10, 5, -2.579831e+190),\n",
    "       (10, 7, -4.126538e+190)]"
   ]
  },
  {
   "cell_type": "code",
   "execution_count": 18,
   "metadata": {},
   "outputs": [],
   "source": [
    "temp = pd.DataFrame(data)\n",
    "temp[2] = temp[2].apply(lambda x: 0 if x<0 else x)\n",
    "temp = temp.pivot(index=0, columns=1, values=2)"
   ]
  },
  {
   "cell_type": "code",
   "execution_count": 19,
   "metadata": {},
   "outputs": [
    {
     "data": {
      "image/png": "[encoded data removed]",
      "text/plain": [
       "<matplotlib.figure.Figure at 0x195734197b8>"
      ]
     },
     "metadata": {},
     "output_type": "display_data"
    }
   ],
   "source": [
    "plt.figure()\n",
    "ax = sns.heatmap(temp)\n",
    "plt.show()"
   ]
  }
 ],
 "metadata": {
  "kernelspec": {
   "display_name": "Python 3",
   "language": "python",
   "name": "python3"
  },
  "language_info": {
   "codemirror_mode": {
    "name": "ipython",
    "version": 3
   },
   "file_extension": ".py",
   "mimetype": "text/x-python",
   "name": "python",
   "nbconvert_exporter": "python",
   "pygments_lexer": "ipython3",
   "version": "3.6.1"
  }
 },
 "nbformat": 4,
 "nbformat_minor": 2
}
